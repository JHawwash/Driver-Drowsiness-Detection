{
 "cells": [
  {
   "cell_type": "markdown",
   "metadata": {},
   "source": [
    "### **Install and Import Necessary Libraries**\n",
    "Note: This python file should be in the yoloface-master folder in order to work"
   ]
  },
  {
   "cell_type": "code",
   "execution_count": null,
   "metadata": {},
   "outputs": [
    {
     "name": "stdout",
     "output_type": "stream",
     "text": [
      "^C\n",
      "Note: you may need to restart the kernel to use updated packages.\n"
     ]
    }
   ],
   "source": [
    "!pip install -r requirements.txt"
   ]
  },
  {
   "cell_type": "code",
   "execution_count": 1,
   "metadata": {},
   "outputs": [],
   "source": [
    "import sys\n",
    "sys.path.append('yoloface-master')\n",
    "\n",
    "from face_detector import YoloDetector\n",
    "import cv2\n",
    "import os"
   ]
  },
  {
   "cell_type": "markdown",
   "metadata": {},
   "source": [
    "### **Initialize Model**"
   ]
  },
  {
   "cell_type": "code",
   "execution_count": 2,
   "metadata": {},
   "outputs": [
    {
     "name": "stdout",
     "output_type": "stream",
     "text": [
      "cuda:0\n",
      "c:\\Users\\Jamil\\Downloads\\Uni\\GP\\Our Model\\yoloface-master\\weights/yolov5n_state_dict.pt\n"
     ]
    }
   ],
   "source": [
    "model = YoloDetector(target_size=720, device=\"cuda:0\", min_face=90)"
   ]
  },
  {
   "cell_type": "markdown",
   "metadata": {},
   "source": [
    "### **Cropping Images**"
   ]
  },
  {
   "cell_type": "code",
   "execution_count": 6,
   "metadata": {},
   "outputs": [],
   "source": [
    "# The path of the dataset\n",
    "dataset_path = \"C:/Users/Jamil/Downloads/Uni/GP/Dataset/Data (Original)\"\n",
    "\n",
    "# The path of the folder in the dataset where the cropped images will be saved\n",
    "cropped_imgs = \"C:/Users/Jamil/Downloads/Uni/GP/Dataset/Data (Cropped)\"\n",
    "\n",
    "# Folders contains a list of the folder names in the dataset folder\n",
    "folders = os.listdir(dataset_path)\n",
    "\n",
    "# Iterate through the folders in the dataset (people)\n",
    "for person in folders:\n",
    "    person_path = os.path.join(dataset_path, person)\n",
    "    imgs = os.listdir(os.path.join(person_path, 'images'))\n",
    "    \n",
    "    # Iterate through the images of the person\n",
    "    for img in imgs:\n",
    "        # Read the image\n",
    "        new_img = cv2.imread(os.path.join(person_path, 'images', img))\n",
    "        \n",
    "        # Convert the image to RGB\n",
    "        new_img = cv2.cvtColor(new_img, cv2.COLOR_BGR2RGB)\n",
    "        \n",
    "        # Get the bounding box around the face\n",
    "        bboxes, _ = model.predict(new_img)        \n",
    "        if bboxes:\n",
    "            for box in bboxes[0]:\n",
    "                if box:\n",
    "                    x1, y1, x2, y2 = box\n",
    "                    \n",
    "                    # Get only the face from the image\n",
    "                    cropped_img = new_img[int(y1):int(y2), int(x1):int(x2)]\n",
    "                    \n",
    "                    # Convert the image back to BGR\n",
    "                    cropped_img = cv2.cvtColor(cropped_img, cv2.COLOR_RGB2BGR)\n",
    "                    \n",
    "                    # Save the cropped image\n",
    "                    cv2.imwrite(os.path.join(cropped_imgs, person, img), cropped_img)\n",
    "                    "
   ]
  }
 ],
 "metadata": {
  "kernelspec": {
   "display_name": "Python 3",
   "language": "python",
   "name": "python3"
  },
  "language_info": {
   "codemirror_mode": {
    "name": "ipython",
    "version": 3
   },
   "file_extension": ".py",
   "mimetype": "text/x-python",
   "name": "python",
   "nbconvert_exporter": "python",
   "pygments_lexer": "ipython3",
   "version": "3.12.0"
  }
 },
 "nbformat": 4,
 "nbformat_minor": 2
}
